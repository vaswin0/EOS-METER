{
 "cells": [
  {
   "cell_type": "markdown",
   "metadata": {},
   "source": [
    "### This notebook is an implementation of deep learning pipelines for classifying EOSs given  $\\rho(P_t, \\phi)$, based on the paper  \"An equation-of-state-meter of quantum chromodynamics transition from deep learning \" by Long-Gang Pang et.al."
   ]
  },
  {
   "cell_type": "code",
   "execution_count": null,
   "metadata": {},
   "outputs": [],
   "source": [
    "#importing necessary libraries\n",
    "\n",
    "import matplotlib.pyplot as plt\n",
    "import math\n",
    "import numpy as np\n",
    "\n",
    "import random\n",
    "import keras\n",
    "from keras import layers\n",
    "from keras.layers import Input, Add, Dense, Activation, ZeroPadding2D, BatchNormalization, Flatten, Conv2D, AveragePooling2D, MaxPooling2D, GlobalMaxPooling2D, GlobalAveragePooling2D, Multiply\n",
    "from keras.models import Model, load_model\n",
    "from keras.preprocessing import image\n",
    "from keras.utils import layer_utils\n",
    "from keras.utils.data_utils import get_file\n",
    "from keras.initializers import glorot_uniform\n",
    "\n",
    "from sklearn.metrics import accuracy_score\n",
    "from sklearn.model_selection import train_test_split, StratifiedKFold\n"
   ]
  },
  {
   "cell_type": "code",
   "execution_count": null,
   "metadata": {},
   "outputs": [],
   "source": [
    "#retrieving data from csv files and converting it to .npy\n",
    "\n",
    "\n",
    "train_data =  np.genfromtxt('data/training_data.csv', delimiter=',')\n",
    "iebe_test = np.genfromtxt('data/test_iebevishnu.csv', delimiter=',')\n",
    "ipglasma_test = np.genfromtxt('data/test_ipglasma.csv', delimiter=',')\n"
   ]
  },
  {
   "cell_type": "code",
   "execution_count": null,
   "metadata": {},
   "outputs": [],
   "source": [
    "def load_data(data):\n",
    "\n",
    "    X = data[1:,1:-2]\n",
    "    X =  X.reshape((-1,48,15,1))\n",
    "    Y = data[1:, -2]\n",
    "\n",
    "    return X, Y\n"
   ]
  },
  {
   "cell_type": "code",
   "execution_count": null,
   "metadata": {},
   "outputs": [],
   "source": [
    "# The CNN model as mentioned in the original paper\n",
    "\n",
    "\n",
    "def eos_net(input_shape = (48, 15, 1), classes = 2):\n",
    "    X_input = keras.Input(input_shape)\n",
    "\n",
    "\n",
    "\n",
    "    x = layers.Conv2D(16, (8,8), padding = 'same')(X_input)\n",
    "    x = layers.PReLU()(x)\n",
    "    layer = layers.Dropout(0.2, input_shape= x.shape)\n",
    "    x = layer(x, training = True)\n",
    "    x = layers.BatchNormalization(axis = 3)(x )\n",
    "\n",
    "\n",
    "    x = layers.Conv2D(32, (7,7), padding = 'same')(x)\n",
    "    x = layers.PReLU()(x)\n",
    "    layer = layers.Dropout(0.2, input_shape= x.shape)\n",
    "    x = layer(x, training = True)\n",
    "    x = layers.BatchNormalization(axis = 3)(x)\n",
    "    x = layers.AveragePooling2D((2,2), padding = 'same')(x)\n",
    "\n",
    "    x = layers.Flatten()(x)\n",
    "\n",
    "    x = layers.Dense(128, activation = 'sigmoid')(x)\n",
    "    x = layers.BatchNormalization()(x)\n",
    "    layer = layers.Dropout(0.5, input_shape= x.shape)\n",
    "    x = layer(x, training =  True)\n",
    "\n",
    "    out = layers.Dense(2, activation = 'softmax')(x)\n",
    "\n",
    "    model = Model(inputs = X_input, outputs = out, name='eos_net')\n",
    "\n",
    "    return model\n"
   ]
  },
  {
   "cell_type": "code",
   "execution_count": null,
   "metadata": {},
   "outputs": [],
   "source": [
    "model = eos_net(input_shape = (48, 15, 1), classes = 2)\n",
    "\n",
    "model.compile(optimizer='adam',  loss='categorical_crossentropy', metrics=['accuracy'])\n"
   ]
  },
  {
   "cell_type": "code",
   "execution_count": null,
   "metadata": {},
   "outputs": [],
   "source": [
    "def train_model(model, X_train, Y_train, X_test, Y_test):\n",
    "    history = model.fit(X_train, Y_train,\n",
    "                        epochs = 600,\n",
    "                        batch_size = 64,\n",
    "                        use_multiprocessing=True,\n",
    "                        validation_data=(X_test, Y_test), verbose = 0)\n",
    "\n",
    "\n",
    "    return history\n"
   ]
  },
  {
   "cell_type": "code",
   "execution_count": null,
   "metadata": {},
   "outputs": [],
   "source": [
    "#model evaluation - predicting class for test data\n",
    "\n",
    "def eval_model(X_test, Y_test):\n",
    "  \n",
    "    pred =  model.predict(X_test)\n",
    "    pred_arg = np.argmax(pred, axis = 1)\n",
    "\n",
    "    y_pred = np.zeros((len(pred),2))\n",
    "    for i in range(len(pred)):\n",
    "        y_pred[i,pred_arg[i]] = 1\n",
    "\n",
    "    test_accuracy = accuracy_score(Y_test,y_pred)\n",
    "\n",
    "\n",
    "\n",
    "    return test_accuracy\n"
   ]
  },
  {
   "cell_type": "code",
   "execution_count": null,
   "metadata": {},
   "outputs": [],
   "source": [
    "#function to write the training history \n",
    "#and other logs in to a file as the model\n",
    "#was trained on a remote server\n",
    "\n",
    "def write2file(history, test_accuracy, i):\n",
    "\n",
    "    f = open(\"crossval_\" + str(i) + \"ep600run1.txt\", \"a\")\n",
    "\n",
    "\n",
    "\n",
    "    f.write(str(i))\n",
    "    f.write('\\n')\n",
    "    f.write('test_accuracy')\n",
    "    f.write(str(test_accuracy))\n",
    "\n",
    "    f.write('\\n')\n",
    "    f.write(str(history.history))\n",
    "    f.write('********************************************')\n",
    "    f.write('\\n')\n",
    "\n",
    "\n",
    "    return"
   ]
  },
  {
   "cell_type": "code",
   "execution_count": null,
   "metadata": {},
   "outputs": [],
   "source": [
    "X, Y = load_data(train_data)\n",
    "\n",
    "#k-fold cross validation\n",
    "\n",
    "folds = list(StratifiedKFold(n_splits=8, shuffle=True, random_state=1).split(X, Y))\n",
    "\n",
    "accuracy = []\n",
    "\n",
    "for i in range(len(folds)):\n",
    "    train_idx, test_idx = folds[i]\n",
    "    X_train = X[train_idx]\n",
    "    Y_train = keras.utils.to_categorical(Y[train_idx])\n",
    "\n",
    "    X_test = X[test_idx]\n",
    "    Y_test = keras.utils.to_categorical(Y[test_idx])\n",
    "\n",
    "    history = train_model(model, X_train, Y_train, X_test, Y_test)\n",
    "    test_accuracy = eval_model(X_test,Y_test)\n",
    "\n",
    "\n",
    "    accuracy.append(test_accuracy)\n",
    "\n",
    "    print(i, test_accuracy)\n",
    "\n",
    "    write2file(history, test_accuracy, i)\n"
   ]
  },
  {
   "cell_type": "code",
   "execution_count": null,
   "metadata": {},
   "outputs": [],
   "source": [
    "f = open(\"crossval_ep600run1.txt\", \"a\")\n",
    "\n",
    "#mean accuracy of all the holdout subset in k-fold cross validation\n",
    "\n",
    "mean_accuracy = sum(accuracy)/len(accuracy)\n",
    "std_dvn = np.std(np.array(accuracy))\n",
    "\n",
    "print('accuracy = ', mean_accuracy, '+-', std_dvn)\n",
    "\n",
    "f.write('accuracy = ') ; f.write(str(mean_accuracy));f.write( '+-'); f.write( str(std_dvn))\n",
    "\n",
    "\n",
    "X, Y = load_data(iebe_test)\n",
    "\n",
    "#converting to one-hot representation\n",
    "Y = keras.utils.to_categorical(Y)\n",
    "test_accuracy = eval_model(X,Y)\n",
    "print('IEBE test_accuracy =', test_accuracy)\n",
    "\n",
    "f.write('\\n')\n",
    "f.write('IEBE')\n",
    "f.write('iebe test accuracy:');f.write(str(test_accuracy))\n",
    "\n",
    "\n",
    "\n",
    "\n",
    "\n",
    "X, Y = load_data(ipglasma_test)\n",
    "Y = keras.utils.to_categorical(Y)\n",
    "\n",
    "test_accuracy = eval_model(X,Y)\n",
    "print('IPGLASMA test_accuracy =', test_accuracy)\n",
    "f.write('\\n')\n",
    "f.write('IPGLASMA')\n",
    "f.write('test accuracy:');f.write(str(test_accuracy))\n",
    "\n"
   ]
  }
 ],
 "metadata": {
  "kernelspec": {
   "display_name": "Python 3",
   "language": "python",
   "name": "python3"
  },
  "language_info": {
   "codemirror_mode": {
    "name": "ipython",
    "version": 3
   },
   "file_extension": ".py",
   "mimetype": "text/x-python",
   "name": "python",
   "nbconvert_exporter": "python",
   "pygments_lexer": "ipython3",
   "version": "3.6.9"
  }
 },
 "nbformat": 4,
 "nbformat_minor": 2
}
